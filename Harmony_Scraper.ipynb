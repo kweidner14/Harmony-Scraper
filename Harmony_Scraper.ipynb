{
 "cells": [
  {
   "cell_type": "markdown",
   "id": "aa63074a-38a8-4402-ad58-805ab7bcc98a",
   "metadata": {},
   "source": [
    "# Preamble\n",
    "Title: Cryptocurrency Information Web Scraper\n",
    "\n",
    "Author: Kyle Weidner\n",
    "\n",
    "Email: kweidne2 at msudenver.edu\n",
    "\n",
    "Last Update: 2021-09-26\n",
    "\n",
    "# Information\n",
    "This report presents graphical information about a specific cryptocurrency gathered from a web scraper. This information includes historical price data and trade volume data.\n",
    "\n",
    "# Dataset\n",
    "The data gathered by this webscraper can be found here: https://www.coingecko.com/en/coins/harmony/historical_data/usd?end_date=2021-09-25&start_date=2021-06-27#panel\n",
    "Web scraping techniques were used to gather and structure the data into a usable and readable form. Daily price data is gathered and processed, as well as daily trade volume data. This data is then presented visually for easier interpretation.\n",
    "\n",
    "The script below automatically gathers the data from the source URL and stores this data into lists for harmony_daily_prices and harmony_volumes."
   ]
  },
  {
   "cell_type": "code",
   "execution_count": 6,
   "id": "c1d46623-5744-46f8-b798-698728231b77",
   "metadata": {},
   "outputs": [],
   "source": [
    "# CS390Z - Introduction to Data Mining - Fall 2021\n",
    "# Instructor: Thyago Mota\n",
    "# Author(s): Kyle Weidner\n",
    "# Description: A Cryptocurrency web scraper\n",
    "\n",
    "from bs4 import BeautifulSoup\n",
    "import requests\n",
    "import pandas as pd\n",
    "from datetime import date, timedelta\n",
    "\n",
    "\n",
    "def min_max(data, mins, maxs, interval=(0, 1)):\n",
    "    return [int(((data[i] - mins) / (maxs - mins) * (interval[1] - interval[0]) + interval[0]) * 100000) / 100000 for i in range(len(data))]\n",
    "\n",
    "\n",
    "end_date = date.today()\n",
    "start_date = end_date - timedelta(days=90)\n",
    "\n",
    "HARMONY_URL = \"https://www.coingecko.com/en/coins/harmony/historical_data/usd?end_date=\" + str(end_date) + \"&start_date=\" + str(start_date) + \"#panel\"\n",
    "\n",
    "harmony = requests.get(HARMONY_URL)\n",
    "h_soup = BeautifulSoup(harmony.content, 'html.parser')\n",
    "\n",
    "harmony_daily_prices = []\n",
    "harmony_volumes = []\n",
    "dates = []\n",
    "open_prices = []\n",
    "close_prices = []\n",
    "\n",
    "# row_data contains the <tr> for each day\n",
    "row_data = h_soup.find_all('tr')\n",
    "\n",
    "# We skip the first two rows because we do not need that data\n",
    "for r in row_data[2:]:\n",
    "    dates.append(str(r.findChildren()[0].get_text().strip()))\n",
    "    open_price = float(r.findChildren()[3].get_text().strip().replace('$', ''))\n",
    "    open_prices.append(open_price)\n",
    "    close_price = float(r.findChildren()[4].get_text().strip().replace('$', ''))\n",
    "    close_prices.append(close_price)\n",
    "    harmony_daily_prices.append(round((open_price + close_price) / 2, 4))\n",
    "    harmony_volumes.append(int(r.findChildren()[2].get_text().strip().replace(\"\\n\", \"\").replace(\"$\", \"\").replace(\",\", \"\")))\n",
    "\n",
    "dataset = pd.DataFrame(\n",
    "    {\"Dates\": dates,\n",
    "     \"Open Price ($)\": open_prices,\n",
    "     \"Close Price ($)\": close_prices,\n",
    "     \"Daily Trade Volume ($)\": harmony_volumes\n",
    "     }\n",
    ")\n",
    "dataset.to_csv('dataset.csv', encoding='UTF-8', index=False)"
   ]
  },
  {
   "cell_type": "markdown",
   "id": "376e5def-02f2-4e2e-b5fb-abb79befcfac",
   "metadata": {},
   "source": [
    "# Summary Statistics"
   ]
  },
  {
   "cell_type": "code",
   "execution_count": 7,
   "id": "81e8382e-beb6-49ea-a6b7-f5ac0aee76e6",
   "metadata": {},
   "outputs": [
    {
     "name": "stdout",
     "output_type": "stream",
     "text": [
      "*** Summary Statistics ***\n",
      "Volumes Range: [14864735, 812739013]\n",
      "Volumes Mean: 142827939.50\n",
      "Volumes Median: 80450404.00\n",
      "Volumes STD: 151463885.64\n",
      "Price Range: [0.0586, 0.2438]\n",
      "Price Mean: 0.13\n",
      "Price Median: 0.12\n",
      "Price STD: 0.05\n"
     ]
    }
   ],
   "source": [
    "# CS390Z - Introduction to Data Mining - Fall 2021\n",
    "# Instructor: Thyago Mota\n",
    "# Author(s): Kyle Weidner\n",
    "# Description: A Cryptocurrency web scraper\n",
    "\n",
    "from scraper import *\n",
    "import numpy as np\n",
    "\n",
    "print(\"*** Summary Statistics ***\")\n",
    "print(f'Volumes Range: [{np.min(harmony_volumes)}, {np.max(harmony_volumes)}]')\n",
    "print('Volumes Mean: {:.2f}'.format(np.mean(harmony_volumes)))\n",
    "print('Volumes Median: {:.2f}'.format(np.median(harmony_volumes)))\n",
    "print('Volumes STD: {:.2f}'.format(np.std(harmony_volumes)))\n",
    "print(f'Price Range: [{np.min(harmony_daily_prices)}, {np.max(harmony_daily_prices)}]')\n",
    "print('Price Mean: {:.2f}'.format(np.mean(harmony_daily_prices)))\n",
    "print('Price Median: {:.2f}'.format(np.median(harmony_daily_prices)))\n",
    "print('Price STD: {:.2f}'.format(np.std(harmony_daily_prices)))"
   ]
  },
  {
   "cell_type": "markdown",
   "id": "f9f9c135-cb50-4a51-8573-f61476101d22",
   "metadata": {},
   "source": [
    "# Histogram Visualization of Price Action"
   ]
  },
  {
   "cell_type": "code",
   "execution_count": 8,
   "id": "9a416747-fed1-485f-bb83-2978330b16bf",
   "metadata": {},
   "outputs": [
    {
     "data": {
      "text/plain": "<Figure size 432x288 with 1 Axes>",
      "image/png": "[encoded data removed]"
     },
     "metadata": {
      "needs_background": "light"
     },
     "output_type": "display_data"
    }
   ],
   "source": [
    "# CS390Z - Introduction to Data Mining - Fall 2021\n",
    "# Instructor: Thyago Mota\n",
    "# Author(s): Kyle Weidner\n",
    "# Description: A Cryptocurrency web scraper\n",
    "\n",
    "from scraper import *\n",
    "import matplotlib.pyplot as plt\n",
    "\n",
    "counts, bins, _ = plt.hist(\n",
    "    harmony_daily_prices,\n",
    "    bins=[0.05, 0.07, 0.09, 0.11, 0.13, 0.15, 0.17, 0.19, 0.21, 0.23, 0.25, 0.27],\n",
    "    rwidth=0.5\n",
    ")\n",
    "bins = [x + .01 for x in bins]\n",
    "axes = plt.gca()\n",
    "axes.set_xticks(bins)\n",
    "axes.set_xticklabels(['0.05', '0.07', '0.09', '.11', '.13', '.15', '.17', '.19', '.21', '.23', '.25', '.27'])\n",
    "plt.xlabel(\"Coin Price ($)\")\n",
    "plt.ylabel(\"Days at price\")\n",
    "plt.show()"
   ]
  },
  {
   "cell_type": "markdown",
   "id": "5763e24c-af75-40d0-80bc-0ef35e4b9adc",
   "metadata": {},
   "source": [
    "# Box Plot Visualization of Daily Trade Volumes"
   ]
  },
  {
   "cell_type": "code",
   "execution_count": 9,
   "id": "631be40d-6bdc-45c7-936c-36de9b16bb23",
   "metadata": {},
   "outputs": [
    {
     "name": "stdout",
     "output_type": "stream",
     "text": [
      "Outlier: 2021-07-22 - $621574356\n",
      "Outlier: 2021-07-24 - $812739013\n",
      "Outlier: 2021-08-21 - $407377867\n",
      "Outlier: 2021-08-22 - $605518239\n",
      "Outlier: 2021-08-23 - $436601551\n",
      "Outlier: 2021-08-24 - $416656737\n"
     ]
    },
    {
     "data": {
      "text/plain": "<Figure size 432x288 with 1 Axes>",
      "image/png": "[encoded data removed]"
     },
     "metadata": {
      "needs_background": "light"
     },
     "output_type": "display_data"
    }
   ],
   "source": [
    "# CS390Z - Introduction to Data Mining - Fall 2021\n",
    "# Instructor: Thyago Mota\n",
    "# Author(s): Kyle Weidner\n",
    "# Description: A Cryptocurrency web scraper\n",
    "\n",
    "from scraper import *\n",
    "import matplotlib.pyplot as plt\n",
    "import numpy as np\n",
    "\n",
    "volumes_range = (max(harmony_volumes)) - (min(harmony_volumes))\n",
    "volumes_labels = [str(int((i/10*volumes_range + min(harmony_volumes))/1000)) for i in range(0, 11, 2)]\n",
    "volumes_normalized = min_max(harmony_volumes, min(harmony_volumes), max(harmony_volumes))\n",
    "\n",
    "plt.boxplot(volumes_normalized)\n",
    "\n",
    "outliers = {}\n",
    "q1 = np.quantile(volumes_normalized, 0.25)\n",
    "q3 = np.quantile(volumes_normalized, 0.75)\n",
    "med = np.median(volumes_normalized)\n",
    "iqr = q3-q1\n",
    "upper_bound = q3+(1.5*iqr)\n",
    "lower_bound = q1-(1.5*iqr)\n",
    "i = 0\n",
    "for a in volumes_normalized:\n",
    "    if a > upper_bound:\n",
    "        outliers.update({dates[i]: harmony_volumes[i]})\n",
    "    if a < lower_bound:\n",
    "        outliers.update({dates[i]: harmony_volumes[i]})\n",
    "    i += 1\n",
    "\n",
    "for date, outlier in outliers.items():\n",
    "    print(\"Outlier:\", date + ' -', '$' + str(outlier))\n",
    "\n",
    "axes = plt.gca()\n",
    "axes.spines['right'].set_visible(False)\n",
    "axes.spines['top'].set_visible(False)\n",
    "axes.set_yticks([i/10 for i in range(0, 11, 2)])\n",
    "axes.set_yticklabels(volumes_labels)\n",
    "axes.set_xticklabels([\"Harmony One\"])\n",
    "plt.ylabel('Daily Trade Volume')\n",
    "plt.show()"
   ]
  },
  {
   "cell_type": "markdown",
   "id": "02cae028-025a-420c-b2bc-c88bdde152c1",
   "metadata": {},
   "source": [
    "# Line chart of Daily Price from Last 90 Days\n",
    "Unsure of how to format the x-axis ticks so the dates aren't all overlapping."
   ]
  },
  {
   "cell_type": "code",
   "execution_count": 10,
   "id": "bdfeed59-0016-4cf1-98df-eb8d5a832544",
   "metadata": {
    "pycharm": {
     "name": "#%%\n"
    }
   },
   "outputs": [
    {
     "data": {
      "text/plain": "<Figure size 432x288 with 1 Axes>",
      "image/png": "[encoded data removed]"
     },
     "metadata": {
      "needs_background": "light"
     },
     "output_type": "display_data"
    }
   ],
   "source": [
    "# CS390Z - Introduction to Data Mining - Fall 2021\n",
    "# Instructor: Thyago Mota\n",
    "# Author(s): Kyle Weidner\n",
    "# Description: A Cryptocurrency web scraper\n",
    "\n",
    "from scraper import *\n",
    "import matplotlib.pyplot as plt\n",
    "\n",
    "harmony_daily_prices.reverse()\n",
    "dates.reverse()\n",
    "plt.plot(dates, harmony_daily_prices)\n",
    "plt.title(\"Harmony Price Chart (90 days)\")\n",
    "plt.xlabel(\"Dates\")\n",
    "plt.ylabel(\"Value in $\")\n",
    "plt.show()"
   ]
  }
 ],
 "metadata": {
  "kernelspec": {
   "display_name": "Python 3 (ipykernel)",
   "language": "python",
   "name": "python3"
  },
  "language_info": {
   "codemirror_mode": {
    "name": "ipython",
    "version": 3
   },
   "file_extension": ".py",
   "mimetype": "text/x-python",
   "name": "python",
   "nbconvert_exporter": "python",
   "pygments_lexer": "ipython3",
   "version": "3.9.5"
  }
 },
 "nbformat": 4,
 "nbformat_minor": 5
}